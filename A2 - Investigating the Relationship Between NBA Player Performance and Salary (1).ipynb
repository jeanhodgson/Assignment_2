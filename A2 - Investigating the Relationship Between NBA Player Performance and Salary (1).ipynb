{
 "cells": [
  {
   "cell_type": "markdown",
   "metadata": {},
   "source": [
    "# Introduction"
   ]
  },
  {
   "cell_type": "markdown",
   "metadata": {},
   "source": [
    "Question: How do NBA player efficiency ratings relate to salary?"
   ]
  },
  {
   "attachments": {},
   "cell_type": "markdown",
   "metadata": {},
   "source": [
    "Bringing in a revenue of approximately 8 billion US dollars during the 2017-2018 season, the National Basketball Association (NBA) is a great example of a successful professional league that has turned sports into an extraordinarily profitable business. The career of a NBA player requires not only intensive physical demands but also high stress and pressure, however with this comes high reward. The highest paid player in the 2017-18 season was Steph Curry, making $37.46million.\n",
    "\n",
    "A team’s success on court is largely impacted by off-court strategy. This includes drafting talented individuals with large potential and negotiating contracts of high performing players. At the end of the day, a team is only as good as it’s players. From a logical point of view, it would make sense for a team to strategize its player salary budget in order to pay each player for the exact value they provide to the team. However, quantifying a player’s value to a team is a difficult task. For example, an individual’s experience and leadership are difficult variables to quantify. Furthermore, the building of a successful team is much more complicated than who the best players are and logical budgeting. Player’s contracts, injuries and competition for top players from multiple teams are examples of variables that can play a substantial role in what players are available and what team they sign with. Salary is not only an important component of a players contract, but it has also been found to be a motivator for success. Player performance has been found to significantly improve during contract years (White and Sheldon 2013). \n",
    "\n",
    "This study aims to better understand how much salary actually reflects a player’s on-court efficiency. Player efficiency ratings (PER), developed by John Hollinger, evaluate a players overall contributions to their team (Hollinger 2007). The rating calculated the per-minute productivity, incorporating field goals, free throws, 3-pointers, assists, rebounds, blocks and steals as positive accomplishments. Missed shots, turnovers and personal fouls are all attributed as negative  attributes and lower a rating. The rating is pace-adjusted, meaning that the pace of a team does not impact the player’s rating. Although the statistic has been critiqued for over emphasizing offensive performance and neglecting defensive players, it does quantify player performance in a standardized way allowing players to be compared. This study will focus investigating the relationship between PER and salary, using player statistics from the 2017-2018 year. "
   ]
  },
  {
   "cell_type": "markdown",
   "metadata": {},
   "source": [
    "# Methods and Results"
   ]
  },
  {
   "cell_type": "markdown",
   "metadata": {},
   "source": [
    "NBA player statistics and salary data for the 2017-2018 season was used to investigate the relationship between player performance and compensation. This data set obtained from Kraggle open data and was created by the user meicher. https://www.kaggle.com/meicher/201718-advanced-player-metrics-salary \n",
    "\n",
    "From this data set, I will be focusing on three variables that have been found to significantly impact a team's season performance: assist percent, steal percent and block percent (Reference). In addition, I will be examining overall player efficiency ratings. These variables will be used as a proxy for player performance. "
   ]
  },
  {
   "cell_type": "code",
   "execution_count": 19,
   "metadata": {
    "scrolled": false
   },
   "outputs": [],
   "source": [
    "library(dplyr)\n",
    "\n",
    "#NBA statistics for 2017-2018 season\n",
    "nba_stats = read.csv(\"NBA_DATA_2017.csv\")\n",
    "\n",
    "#Select for columns of interest\n",
    "stat = select(nba_stats, Player, Salary, PER)"
   ]
  },
  {
   "cell_type": "markdown",
   "metadata": {},
   "source": [
    "# Exploring and Cleaning the Data"
   ]
  },
  {
   "cell_type": "markdown",
   "metadata": {},
   "source": [
    "To better understand the data set, I investigated the number of unique rows and unique player names. I found that there was 648 unique rows in the data. Interestingly, there were only 528 unique player names. This is because some players (ex. Willie Reed) played for multiple teams during the season. Because this analysis focuses on the relationship between salary and player statistics, a player with the same salary but different statistics would still be valuable information. Because of this I decided to use a data set with unique entires, but kept the duplicated players who played for multiple teams. "
   ]
  },
  {
   "cell_type": "markdown",
   "metadata": {},
   "source": [
    "Table 1 . Unique data entries for player, salary and PER, in the NBA data set  "
   ]
  },
  {
   "cell_type": "code",
   "execution_count": 20,
   "metadata": {},
   "outputs": [
    {
     "data": {
      "text/html": [
       "<table>\n",
       "<caption>A data.frame: 646 × 3</caption>\n",
       "<thead>\n",
       "\t<tr><th></th><th scope=col>Player</th><th scope=col>Salary</th><th scope=col>PER</th></tr>\n",
       "\t<tr><th></th><th scope=col>&lt;fct&gt;</th><th scope=col>&lt;int&gt;</th><th scope=col>&lt;dbl&gt;</th></tr>\n",
       "</thead>\n",
       "<tbody>\n",
       "\t<tr><th scope=row>1</th><td>Anthony Brown        </td><td>       0</td><td>41.9</td></tr>\n",
       "\t<tr><th scope=row>2</th><td>Vince Hunter         </td><td>   50000</td><td>35.8</td></tr>\n",
       "\t<tr><th scope=row>3</th><td>Nigel Hayes          </td><td>   92160</td><td>34.9</td></tr>\n",
       "\t<tr><th scope=row>4</th><td>David Stockton       </td><td>  148318</td><td>33.9</td></tr>\n",
       "\t<tr><th scope=row>5</th><td>Shabazz Muhammad     </td><td> 1577230</td><td>31.0</td></tr>\n",
       "\t<tr><th scope=row>6</th><td>Boban Marjanovic     </td><td> 7000000</td><td>30.6</td></tr>\n",
       "\t<tr><th scope=row>7</th><td>James Harden         </td><td>28299399</td><td>29.8</td></tr>\n",
       "\t<tr><th scope=row>8</th><td>Anthony Davis        </td><td>23775506</td><td>28.9</td></tr>\n",
       "\t<tr><th scope=row>9</th><td>LeBron James         </td><td>33285709</td><td>28.6</td></tr>\n",
       "\t<tr><th scope=row>10</th><td>Stephen Curry        </td><td>34682550</td><td>28.2</td></tr>\n",
       "\t<tr><th scope=row>11</th><td>Giannis Antetokounmpo</td><td>22471910</td><td>27.3</td></tr>\n",
       "\t<tr><th scope=row>12</th><td>Monte Morris         </td><td>       0</td><td>27.1</td></tr>\n",
       "\t<tr><th scope=row>13</th><td>MarShon Brooks       </td><td>   86119</td><td>26.1</td></tr>\n",
       "\t<tr><th scope=row>14</th><td>Kevin Durant         </td><td>25000000</td><td>26.0</td></tr>\n",
       "\t<tr><th scope=row>15</th><td>Kawhi Leonard        </td><td>18868625</td><td>26.0</td></tr>\n",
       "\t<tr><th scope=row>16</th><td>Boban Marjanovic     </td><td> 7000000</td><td>26.0</td></tr>\n",
       "\t<tr><th scope=row>17</th><td>Damian Lillard       </td><td>26153057</td><td>25.2</td></tr>\n",
       "\t<tr><th scope=row>18</th><td>Willy Hernangomez    </td><td> 1435750</td><td>25.0</td></tr>\n",
       "\t<tr><th scope=row>19</th><td>LaMarcus Aldridge    </td><td>21461010</td><td>25.0</td></tr>\n",
       "\t<tr><th scope=row>20</th><td>Kyrie Irving         </td><td>18868625</td><td>25.0</td></tr>\n",
       "\t<tr><th scope=row>21</th><td>Karl-Anthony Towns   </td><td> 6216840</td><td>24.9</td></tr>\n",
       "\t<tr><th scope=row>22</th><td>Russell Westbrook    </td><td>28530608</td><td>24.7</td></tr>\n",
       "\t<tr><th scope=row>23</th><td>Montrezl Harrell     </td><td> 1471382</td><td>24.7</td></tr>\n",
       "\t<tr><th scope=row>24</th><td>Demetrius Jackson    </td><td>   92858</td><td>24.5</td></tr>\n",
       "\t<tr><th scope=row>25</th><td>Clint Capela         </td><td> 2334520</td><td>24.5</td></tr>\n",
       "\t<tr><th scope=row>26</th><td>Nikola Jokic         </td><td> 1471382</td><td>24.4</td></tr>\n",
       "\t<tr><th scope=row>27</th><td>Chris Paul           </td><td>24599495</td><td>24.4</td></tr>\n",
       "\t<tr><th scope=row>28</th><td>Ante Zizic           </td><td> 1645200</td><td>24.2</td></tr>\n",
       "\t<tr><th scope=row>29</th><td>Hassan Whiteside     </td><td>23775506</td><td>24.1</td></tr>\n",
       "\t<tr><th scope=row>30</th><td>Enes Kanter          </td><td>20566802</td><td>24.0</td></tr>\n",
       "\t<tr><th scope=row>⋮</th><td>⋮</td><td>⋮</td><td>⋮</td></tr>\n",
       "\t<tr><th scope=row>619</th><td>Xavier Rathan-Mayes </td><td>  46080</td><td>  0.9</td></tr>\n",
       "\t<tr><th scope=row>620</th><td>Nik Stauskas        </td><td>3807146</td><td>  0.9</td></tr>\n",
       "\t<tr><th scope=row>621</th><td>London Perrantes    </td><td>      0</td><td>  0.7</td></tr>\n",
       "\t<tr><th scope=row>622</th><td>Demetrius Jackson   </td><td>  92858</td><td>  0.2</td></tr>\n",
       "\t<tr><th scope=row>623</th><td>Tyler Lydon         </td><td>1579440</td><td>  0.0</td></tr>\n",
       "\t<tr><th scope=row>624</th><td>Trey McKinney-Jones </td><td>  46080</td><td>  0.0</td></tr>\n",
       "\t<tr><th scope=row>625</th><td>Bruno Caboclo       </td><td>2451225</td><td> -0.1</td></tr>\n",
       "\t<tr><th scope=row>626</th><td>Matt Williams       </td><td>  50000</td><td> -0.7</td></tr>\n",
       "\t<tr><th scope=row>627</th><td>Markel Brown        </td><td>      0</td><td> -1.2</td></tr>\n",
       "\t<tr><th scope=row>628</th><td>Vander Blue         </td><td>  50000</td><td> -1.8</td></tr>\n",
       "\t<tr><th scope=row>629</th><td>Jarell Eddie        </td><td>  83129</td><td> -1.9</td></tr>\n",
       "\t<tr><th scope=row>630</th><td>Xavier Munford      </td><td>      0</td><td> -2.1</td></tr>\n",
       "\t<tr><th scope=row>631</th><td>Jacob Pullen        </td><td>  50000</td><td> -2.3</td></tr>\n",
       "\t<tr><th scope=row>632</th><td>Ben Moore           </td><td>      0</td><td> -2.3</td></tr>\n",
       "\t<tr><th scope=row>633</th><td>Troy Williams       </td><td>1471382</td><td> -2.4</td></tr>\n",
       "\t<tr><th scope=row>634</th><td>Nate Wolters        </td><td>  50000</td><td> -2.9</td></tr>\n",
       "\t<tr><th scope=row>635</th><td>Derrick Williams    </td><td> 104059</td><td> -3.2</td></tr>\n",
       "\t<tr><th scope=row>636</th><td>Scotty Hopson       </td><td>  74159</td><td> -4.6</td></tr>\n",
       "\t<tr><th scope=row>637</th><td>Nicolas Brussino    </td><td>1312611</td><td> -4.6</td></tr>\n",
       "\t<tr><th scope=row>638</th><td>Xavier Silas        </td><td>  74159</td><td> -4.9</td></tr>\n",
       "\t<tr><th scope=row>639</th><td>PJ Dozier           </td><td>      0</td><td> -5.0</td></tr>\n",
       "\t<tr><th scope=row>640</th><td>Charles Cooke       </td><td>      0</td><td> -5.1</td></tr>\n",
       "\t<tr><th scope=row>641</th><td>Isaiah Canaan       </td><td>1069308</td><td> -7.3</td></tr>\n",
       "\t<tr><th scope=row>642</th><td>Erik McCree         </td><td>      0</td><td> -8.9</td></tr>\n",
       "\t<tr><th scope=row>643</th><td>Larry Drew          </td><td> 148318</td><td> -9.4</td></tr>\n",
       "\t<tr><th scope=row>644</th><td>Josh McRoberts      </td><td>6021175</td><td>-12.5</td></tr>\n",
       "\t<tr><th scope=row>645</th><td>Jarell Eddie        </td><td>  83129</td><td>-13.5</td></tr>\n",
       "\t<tr><th scope=row>646</th><td>Luis Montero        </td><td>  50000</td><td>-15.5</td></tr>\n",
       "\t<tr><th scope=row>647</th><td>Chris Boucher       </td><td>      0</td><td>-28.5</td></tr>\n",
       "\t<tr><th scope=row>648</th><td>Mindaugas Kuzminskas</td><td>3025035</td><td>-41.1</td></tr>\n",
       "</tbody>\n",
       "</table>\n"
      ],
      "text/latex": [
       "A data.frame: 646 × 3\n",
       "\\begin{tabular}{r|lll}\n",
       "  & Player & Salary & PER\\\\\n",
       "  & <fct> & <int> & <dbl>\\\\\n",
       "\\hline\n",
       "\t1 & Anthony Brown         &        0 & 41.9\\\\\n",
       "\t2 & Vince Hunter          &    50000 & 35.8\\\\\n",
       "\t3 & Nigel Hayes           &    92160 & 34.9\\\\\n",
       "\t4 & David Stockton        &   148318 & 33.9\\\\\n",
       "\t5 & Shabazz Muhammad      &  1577230 & 31.0\\\\\n",
       "\t6 & Boban Marjanovic      &  7000000 & 30.6\\\\\n",
       "\t7 & James Harden          & 28299399 & 29.8\\\\\n",
       "\t8 & Anthony Davis         & 23775506 & 28.9\\\\\n",
       "\t9 & LeBron James          & 33285709 & 28.6\\\\\n",
       "\t10 & Stephen Curry         & 34682550 & 28.2\\\\\n",
       "\t11 & Giannis Antetokounmpo & 22471910 & 27.3\\\\\n",
       "\t12 & Monte Morris          &        0 & 27.1\\\\\n",
       "\t13 & MarShon Brooks        &    86119 & 26.1\\\\\n",
       "\t14 & Kevin Durant          & 25000000 & 26.0\\\\\n",
       "\t15 & Kawhi Leonard         & 18868625 & 26.0\\\\\n",
       "\t16 & Boban Marjanovic      &  7000000 & 26.0\\\\\n",
       "\t17 & Damian Lillard        & 26153057 & 25.2\\\\\n",
       "\t18 & Willy Hernangomez     &  1435750 & 25.0\\\\\n",
       "\t19 & LaMarcus Aldridge     & 21461010 & 25.0\\\\\n",
       "\t20 & Kyrie Irving          & 18868625 & 25.0\\\\\n",
       "\t21 & Karl-Anthony Towns    &  6216840 & 24.9\\\\\n",
       "\t22 & Russell Westbrook     & 28530608 & 24.7\\\\\n",
       "\t23 & Montrezl Harrell      &  1471382 & 24.7\\\\\n",
       "\t24 & Demetrius Jackson     &    92858 & 24.5\\\\\n",
       "\t25 & Clint Capela          &  2334520 & 24.5\\\\\n",
       "\t26 & Nikola Jokic          &  1471382 & 24.4\\\\\n",
       "\t27 & Chris Paul            & 24599495 & 24.4\\\\\n",
       "\t28 & Ante Zizic            &  1645200 & 24.2\\\\\n",
       "\t29 & Hassan Whiteside      & 23775506 & 24.1\\\\\n",
       "\t30 & Enes Kanter           & 20566802 & 24.0\\\\\n",
       "\t⋮ & ⋮ & ⋮ & ⋮\\\\\n",
       "\t619 & Xavier Rathan-Mayes  &   46080 &   0.9\\\\\n",
       "\t620 & Nik Stauskas         & 3807146 &   0.9\\\\\n",
       "\t621 & London Perrantes     &       0 &   0.7\\\\\n",
       "\t622 & Demetrius Jackson    &   92858 &   0.2\\\\\n",
       "\t623 & Tyler Lydon          & 1579440 &   0.0\\\\\n",
       "\t624 & Trey McKinney-Jones  &   46080 &   0.0\\\\\n",
       "\t625 & Bruno Caboclo        & 2451225 &  -0.1\\\\\n",
       "\t626 & Matt Williams        &   50000 &  -0.7\\\\\n",
       "\t627 & Markel Brown         &       0 &  -1.2\\\\\n",
       "\t628 & Vander Blue          &   50000 &  -1.8\\\\\n",
       "\t629 & Jarell Eddie         &   83129 &  -1.9\\\\\n",
       "\t630 & Xavier Munford       &       0 &  -2.1\\\\\n",
       "\t631 & Jacob Pullen         &   50000 &  -2.3\\\\\n",
       "\t632 & Ben Moore            &       0 &  -2.3\\\\\n",
       "\t633 & Troy Williams        & 1471382 &  -2.4\\\\\n",
       "\t634 & Nate Wolters         &   50000 &  -2.9\\\\\n",
       "\t635 & Derrick Williams     &  104059 &  -3.2\\\\\n",
       "\t636 & Scotty Hopson        &   74159 &  -4.6\\\\\n",
       "\t637 & Nicolas Brussino     & 1312611 &  -4.6\\\\\n",
       "\t638 & Xavier Silas         &   74159 &  -4.9\\\\\n",
       "\t639 & PJ Dozier            &       0 &  -5.0\\\\\n",
       "\t640 & Charles Cooke        &       0 &  -5.1\\\\\n",
       "\t641 & Isaiah Canaan        & 1069308 &  -7.3\\\\\n",
       "\t642 & Erik McCree          &       0 &  -8.9\\\\\n",
       "\t643 & Larry Drew           &  148318 &  -9.4\\\\\n",
       "\t644 & Josh McRoberts       & 6021175 & -12.5\\\\\n",
       "\t645 & Jarell Eddie         &   83129 & -13.5\\\\\n",
       "\t646 & Luis Montero         &   50000 & -15.5\\\\\n",
       "\t647 & Chris Boucher        &       0 & -28.5\\\\\n",
       "\t648 & Mindaugas Kuzminskas & 3025035 & -41.1\\\\\n",
       "\\end{tabular}\n"
      ],
      "text/markdown": [
       "\n",
       "A data.frame: 646 × 3\n",
       "\n",
       "| <!--/--> | Player &lt;fct&gt; | Salary &lt;int&gt; | PER &lt;dbl&gt; |\n",
       "|---|---|---|---|\n",
       "| 1 | Anthony Brown         |        0 | 41.9 |\n",
       "| 2 | Vince Hunter          |    50000 | 35.8 |\n",
       "| 3 | Nigel Hayes           |    92160 | 34.9 |\n",
       "| 4 | David Stockton        |   148318 | 33.9 |\n",
       "| 5 | Shabazz Muhammad      |  1577230 | 31.0 |\n",
       "| 6 | Boban Marjanovic      |  7000000 | 30.6 |\n",
       "| 7 | James Harden          | 28299399 | 29.8 |\n",
       "| 8 | Anthony Davis         | 23775506 | 28.9 |\n",
       "| 9 | LeBron James          | 33285709 | 28.6 |\n",
       "| 10 | Stephen Curry         | 34682550 | 28.2 |\n",
       "| 11 | Giannis Antetokounmpo | 22471910 | 27.3 |\n",
       "| 12 | Monte Morris          |        0 | 27.1 |\n",
       "| 13 | MarShon Brooks        |    86119 | 26.1 |\n",
       "| 14 | Kevin Durant          | 25000000 | 26.0 |\n",
       "| 15 | Kawhi Leonard         | 18868625 | 26.0 |\n",
       "| 16 | Boban Marjanovic      |  7000000 | 26.0 |\n",
       "| 17 | Damian Lillard        | 26153057 | 25.2 |\n",
       "| 18 | Willy Hernangomez     |  1435750 | 25.0 |\n",
       "| 19 | LaMarcus Aldridge     | 21461010 | 25.0 |\n",
       "| 20 | Kyrie Irving          | 18868625 | 25.0 |\n",
       "| 21 | Karl-Anthony Towns    |  6216840 | 24.9 |\n",
       "| 22 | Russell Westbrook     | 28530608 | 24.7 |\n",
       "| 23 | Montrezl Harrell      |  1471382 | 24.7 |\n",
       "| 24 | Demetrius Jackson     |    92858 | 24.5 |\n",
       "| 25 | Clint Capela          |  2334520 | 24.5 |\n",
       "| 26 | Nikola Jokic          |  1471382 | 24.4 |\n",
       "| 27 | Chris Paul            | 24599495 | 24.4 |\n",
       "| 28 | Ante Zizic            |  1645200 | 24.2 |\n",
       "| 29 | Hassan Whiteside      | 23775506 | 24.1 |\n",
       "| 30 | Enes Kanter           | 20566802 | 24.0 |\n",
       "| ⋮ | ⋮ | ⋮ | ⋮ |\n",
       "| 619 | Xavier Rathan-Mayes  |   46080 |   0.9 |\n",
       "| 620 | Nik Stauskas         | 3807146 |   0.9 |\n",
       "| 621 | London Perrantes     |       0 |   0.7 |\n",
       "| 622 | Demetrius Jackson    |   92858 |   0.2 |\n",
       "| 623 | Tyler Lydon          | 1579440 |   0.0 |\n",
       "| 624 | Trey McKinney-Jones  |   46080 |   0.0 |\n",
       "| 625 | Bruno Caboclo        | 2451225 |  -0.1 |\n",
       "| 626 | Matt Williams        |   50000 |  -0.7 |\n",
       "| 627 | Markel Brown         |       0 |  -1.2 |\n",
       "| 628 | Vander Blue          |   50000 |  -1.8 |\n",
       "| 629 | Jarell Eddie         |   83129 |  -1.9 |\n",
       "| 630 | Xavier Munford       |       0 |  -2.1 |\n",
       "| 631 | Jacob Pullen         |   50000 |  -2.3 |\n",
       "| 632 | Ben Moore            |       0 |  -2.3 |\n",
       "| 633 | Troy Williams        | 1471382 |  -2.4 |\n",
       "| 634 | Nate Wolters         |   50000 |  -2.9 |\n",
       "| 635 | Derrick Williams     |  104059 |  -3.2 |\n",
       "| 636 | Scotty Hopson        |   74159 |  -4.6 |\n",
       "| 637 | Nicolas Brussino     | 1312611 |  -4.6 |\n",
       "| 638 | Xavier Silas         |   74159 |  -4.9 |\n",
       "| 639 | PJ Dozier            |       0 |  -5.0 |\n",
       "| 640 | Charles Cooke        |       0 |  -5.1 |\n",
       "| 641 | Isaiah Canaan        | 1069308 |  -7.3 |\n",
       "| 642 | Erik McCree          |       0 |  -8.9 |\n",
       "| 643 | Larry Drew           |  148318 |  -9.4 |\n",
       "| 644 | Josh McRoberts       | 6021175 | -12.5 |\n",
       "| 645 | Jarell Eddie         |   83129 | -13.5 |\n",
       "| 646 | Luis Montero         |   50000 | -15.5 |\n",
       "| 647 | Chris Boucher        |       0 | -28.5 |\n",
       "| 648 | Mindaugas Kuzminskas | 3025035 | -41.1 |\n",
       "\n"
      ],
      "text/plain": [
       "    Player                Salary   PER  \n",
       "1   Anthony Brown                0 41.9 \n",
       "2   Vince Hunter             50000 35.8 \n",
       "3   Nigel Hayes              92160 34.9 \n",
       "4   David Stockton          148318 33.9 \n",
       "5   Shabazz Muhammad       1577230 31.0 \n",
       "6   Boban Marjanovic       7000000 30.6 \n",
       "7   James Harden          28299399 29.8 \n",
       "8   Anthony Davis         23775506 28.9 \n",
       "9   LeBron James          33285709 28.6 \n",
       "10  Stephen Curry         34682550 28.2 \n",
       "11  Giannis Antetokounmpo 22471910 27.3 \n",
       "12  Monte Morris                 0 27.1 \n",
       "13  MarShon Brooks           86119 26.1 \n",
       "14  Kevin Durant          25000000 26.0 \n",
       "15  Kawhi Leonard         18868625 26.0 \n",
       "16  Boban Marjanovic       7000000 26.0 \n",
       "17  Damian Lillard        26153057 25.2 \n",
       "18  Willy Hernangomez      1435750 25.0 \n",
       "19  LaMarcus Aldridge     21461010 25.0 \n",
       "20  Kyrie Irving          18868625 25.0 \n",
       "21  Karl-Anthony Towns     6216840 24.9 \n",
       "22  Russell Westbrook     28530608 24.7 \n",
       "23  Montrezl Harrell       1471382 24.7 \n",
       "24  Demetrius Jackson        92858 24.5 \n",
       "25  Clint Capela           2334520 24.5 \n",
       "26  Nikola Jokic           1471382 24.4 \n",
       "27  Chris Paul            24599495 24.4 \n",
       "28  Ante Zizic             1645200 24.2 \n",
       "29  Hassan Whiteside      23775506 24.1 \n",
       "30  Enes Kanter           20566802 24.0 \n",
       "⋮   ⋮                     ⋮        ⋮    \n",
       "619 Xavier Rathan-Mayes     46080    0.9\n",
       "620 Nik Stauskas          3807146    0.9\n",
       "621 London Perrantes            0    0.7\n",
       "622 Demetrius Jackson       92858    0.2\n",
       "623 Tyler Lydon           1579440    0.0\n",
       "624 Trey McKinney-Jones     46080    0.0\n",
       "625 Bruno Caboclo         2451225   -0.1\n",
       "626 Matt Williams           50000   -0.7\n",
       "627 Markel Brown                0   -1.2\n",
       "628 Vander Blue             50000   -1.8\n",
       "629 Jarell Eddie            83129   -1.9\n",
       "630 Xavier Munford              0   -2.1\n",
       "631 Jacob Pullen            50000   -2.3\n",
       "632 Ben Moore                   0   -2.3\n",
       "633 Troy Williams         1471382   -2.4\n",
       "634 Nate Wolters            50000   -2.9\n",
       "635 Derrick Williams       104059   -3.2\n",
       "636 Scotty Hopson           74159   -4.6\n",
       "637 Nicolas Brussino      1312611   -4.6\n",
       "638 Xavier Silas            74159   -4.9\n",
       "639 PJ Dozier                   0   -5.0\n",
       "640 Charles Cooke               0   -5.1\n",
       "641 Isaiah Canaan         1069308   -7.3\n",
       "642 Erik McCree                 0   -8.9\n",
       "643 Larry Drew             148318   -9.4\n",
       "644 Josh McRoberts        6021175  -12.5\n",
       "645 Jarell Eddie            83129  -13.5\n",
       "646 Luis Montero            50000  -15.5\n",
       "647 Chris Boucher               0  -28.5\n",
       "648 Mindaugas Kuzminskas  3025035  -41.1"
      ]
     },
     "metadata": {},
     "output_type": "display_data"
    },
    {
     "data": {
      "text/html": [
       "528"
      ],
      "text/latex": [
       "528"
      ],
      "text/markdown": [
       "528"
      ],
      "text/plain": [
       "[1] 528"
      ]
     },
     "metadata": {},
     "output_type": "display_data"
    }
   ],
   "source": [
    "#Investigating unique rows and unique player names\n",
    "unique(stat)\n",
    "length(unique(stat$Player))\n"
   ]
  },
  {
   "cell_type": "markdown",
   "metadata": {},
   "source": [
    "The players making $0 were filtered and searched on Google to understand why they existed. I found that these players all played for the G-league, and therefore did not recieve a NBA salary. Because of this we removed these players from the study and will focus on the 601 entries of player stats with salaries. "
   ]
  },
  {
   "cell_type": "markdown",
   "metadata": {},
   "source": [
    "Table 2. Filtered data for players making $0 during the 2017-2018 season."
   ]
  },
  {
   "cell_type": "code",
   "execution_count": 23,
   "metadata": {
    "scrolled": true
   },
   "outputs": [
    {
     "data": {
      "text/html": [
       "<table>\n",
       "<caption>A data.frame: 50 × 3</caption>\n",
       "<thead>\n",
       "\t<tr><th scope=col>Player</th><th scope=col>Salary</th><th scope=col>PER</th></tr>\n",
       "\t<tr><th scope=col>&lt;fct&gt;</th><th scope=col>&lt;int&gt;</th><th scope=col>&lt;dbl&gt;</th></tr>\n",
       "</thead>\n",
       "<tbody>\n",
       "\t<tr><td>Anthony Brown   </td><td>0</td><td> 41.9</td></tr>\n",
       "\t<tr><td>Monte Morris    </td><td>0</td><td> 27.1</td></tr>\n",
       "\t<tr><td>Jack Cooley     </td><td>0</td><td> 19.7</td></tr>\n",
       "\t<tr><td>Adreian Payne   </td><td>0</td><td> 18.8</td></tr>\n",
       "\t<tr><td>Daniel Hamilton </td><td>0</td><td> 18.2</td></tr>\n",
       "\t<tr><td>Mangok Mathiang </td><td>0</td><td> 18.0</td></tr>\n",
       "\t<tr><td>Johnathan Motley</td><td>0</td><td> 17.2</td></tr>\n",
       "\t<tr><td>JaKarr Sampson  </td><td>0</td><td> 13.9</td></tr>\n",
       "\t<tr><td>Luke Kornet     </td><td>0</td><td> 13.6</td></tr>\n",
       "\t<tr><td>Reggie Hearn    </td><td>0</td><td> 13.1</td></tr>\n",
       "\t<tr><td>Danuel House    </td><td>0</td><td> 12.4</td></tr>\n",
       "\t<tr><td>Jabari Bird     </td><td>0</td><td> 12.1</td></tr>\n",
       "\t<tr><td>Josh Magette    </td><td>0</td><td> 11.9</td></tr>\n",
       "\t<tr><td>Derrick Walton  </td><td>0</td><td> 11.2</td></tr>\n",
       "\t<tr><td>Jalen Jones     </td><td>0</td><td> 10.9</td></tr>\n",
       "\t<tr><td>Alec Peters     </td><td>0</td><td> 10.7</td></tr>\n",
       "\t<tr><td>Jalen Jones     </td><td>0</td><td> 10.3</td></tr>\n",
       "\t<tr><td>Tyrone Wallace  </td><td>0</td><td> 10.1</td></tr>\n",
       "\t<tr><td>Antonio Blakeney</td><td>0</td><td> 10.1</td></tr>\n",
       "\t<tr><td>Torrey Craig    </td><td>0</td><td>  9.8</td></tr>\n",
       "\t<tr><td>Myke Henry      </td><td>0</td><td>  9.7</td></tr>\n",
       "\t<tr><td>Matt Costello   </td><td>0</td><td>  9.7</td></tr>\n",
       "\t<tr><td>C.J. Williams   </td><td>0</td><td>  9.5</td></tr>\n",
       "\t<tr><td>Marcus Paige    </td><td>0</td><td>  9.1</td></tr>\n",
       "\t<tr><td>Malcolm Miller  </td><td>0</td><td>  8.9</td></tr>\n",
       "\t<tr><td>Alex Caruso     </td><td>0</td><td>  8.7</td></tr>\n",
       "\t<tr><td>R.J. Hunter     </td><td>0</td><td>  8.5</td></tr>\n",
       "\t<tr><td>Lorenzo Brown   </td><td>0</td><td>  8.2</td></tr>\n",
       "\t<tr><td>Jacob Wiley     </td><td>0</td><td>  8.2</td></tr>\n",
       "\t<tr><td>Kobi Simmons    </td><td>0</td><td>  7.7</td></tr>\n",
       "\t<tr><td>Ryan Arcidiacono</td><td>0</td><td>  7.3</td></tr>\n",
       "\t<tr><td>Jamel Artis     </td><td>0</td><td>  6.9</td></tr>\n",
       "\t<tr><td>Isaiah Hicks    </td><td>0</td><td>  6.8</td></tr>\n",
       "\t<tr><td>John Holland    </td><td>0</td><td>  5.9</td></tr>\n",
       "\t<tr><td>Andrew White    </td><td>0</td><td>  5.8</td></tr>\n",
       "\t<tr><td>Milton Doyle    </td><td>0</td><td>  5.2</td></tr>\n",
       "\t<tr><td>Jalen Jones     </td><td>0</td><td>  5.0</td></tr>\n",
       "\t<tr><td>James Young     </td><td>0</td><td>  4.6</td></tr>\n",
       "\t<tr><td>Darrun Hilliard </td><td>0</td><td>  3.4</td></tr>\n",
       "\t<tr><td>Tim Quarterman  </td><td>0</td><td>  2.9</td></tr>\n",
       "\t<tr><td>Kadeem Allen    </td><td>0</td><td>  2.6</td></tr>\n",
       "\t<tr><td>James Webb      </td><td>0</td><td>  2.2</td></tr>\n",
       "\t<tr><td>London Perrantes</td><td>0</td><td>  0.7</td></tr>\n",
       "\t<tr><td>Markel Brown    </td><td>0</td><td> -1.2</td></tr>\n",
       "\t<tr><td>Xavier Munford  </td><td>0</td><td> -2.1</td></tr>\n",
       "\t<tr><td>Ben Moore       </td><td>0</td><td> -2.3</td></tr>\n",
       "\t<tr><td>PJ Dozier       </td><td>0</td><td> -5.0</td></tr>\n",
       "\t<tr><td>Charles Cooke   </td><td>0</td><td> -5.1</td></tr>\n",
       "\t<tr><td>Erik McCree     </td><td>0</td><td> -8.9</td></tr>\n",
       "\t<tr><td>Chris Boucher   </td><td>0</td><td>-28.5</td></tr>\n",
       "</tbody>\n",
       "</table>\n"
      ],
      "text/latex": [
       "A data.frame: 50 × 3\n",
       "\\begin{tabular}{r|lll}\n",
       " Player & Salary & PER\\\\\n",
       " <fct> & <int> & <dbl>\\\\\n",
       "\\hline\n",
       "\t Anthony Brown    & 0 &  41.9\\\\\n",
       "\t Monte Morris     & 0 &  27.1\\\\\n",
       "\t Jack Cooley      & 0 &  19.7\\\\\n",
       "\t Adreian Payne    & 0 &  18.8\\\\\n",
       "\t Daniel Hamilton  & 0 &  18.2\\\\\n",
       "\t Mangok Mathiang  & 0 &  18.0\\\\\n",
       "\t Johnathan Motley & 0 &  17.2\\\\\n",
       "\t JaKarr Sampson   & 0 &  13.9\\\\\n",
       "\t Luke Kornet      & 0 &  13.6\\\\\n",
       "\t Reggie Hearn     & 0 &  13.1\\\\\n",
       "\t Danuel House     & 0 &  12.4\\\\\n",
       "\t Jabari Bird      & 0 &  12.1\\\\\n",
       "\t Josh Magette     & 0 &  11.9\\\\\n",
       "\t Derrick Walton   & 0 &  11.2\\\\\n",
       "\t Jalen Jones      & 0 &  10.9\\\\\n",
       "\t Alec Peters      & 0 &  10.7\\\\\n",
       "\t Jalen Jones      & 0 &  10.3\\\\\n",
       "\t Tyrone Wallace   & 0 &  10.1\\\\\n",
       "\t Antonio Blakeney & 0 &  10.1\\\\\n",
       "\t Torrey Craig     & 0 &   9.8\\\\\n",
       "\t Myke Henry       & 0 &   9.7\\\\\n",
       "\t Matt Costello    & 0 &   9.7\\\\\n",
       "\t C.J. Williams    & 0 &   9.5\\\\\n",
       "\t Marcus Paige     & 0 &   9.1\\\\\n",
       "\t Malcolm Miller   & 0 &   8.9\\\\\n",
       "\t Alex Caruso      & 0 &   8.7\\\\\n",
       "\t R.J. Hunter      & 0 &   8.5\\\\\n",
       "\t Lorenzo Brown    & 0 &   8.2\\\\\n",
       "\t Jacob Wiley      & 0 &   8.2\\\\\n",
       "\t Kobi Simmons     & 0 &   7.7\\\\\n",
       "\t Ryan Arcidiacono & 0 &   7.3\\\\\n",
       "\t Jamel Artis      & 0 &   6.9\\\\\n",
       "\t Isaiah Hicks     & 0 &   6.8\\\\\n",
       "\t John Holland     & 0 &   5.9\\\\\n",
       "\t Andrew White     & 0 &   5.8\\\\\n",
       "\t Milton Doyle     & 0 &   5.2\\\\\n",
       "\t Jalen Jones      & 0 &   5.0\\\\\n",
       "\t James Young      & 0 &   4.6\\\\\n",
       "\t Darrun Hilliard  & 0 &   3.4\\\\\n",
       "\t Tim Quarterman   & 0 &   2.9\\\\\n",
       "\t Kadeem Allen     & 0 &   2.6\\\\\n",
       "\t James Webb       & 0 &   2.2\\\\\n",
       "\t London Perrantes & 0 &   0.7\\\\\n",
       "\t Markel Brown     & 0 &  -1.2\\\\\n",
       "\t Xavier Munford   & 0 &  -2.1\\\\\n",
       "\t Ben Moore        & 0 &  -2.3\\\\\n",
       "\t PJ Dozier        & 0 &  -5.0\\\\\n",
       "\t Charles Cooke    & 0 &  -5.1\\\\\n",
       "\t Erik McCree      & 0 &  -8.9\\\\\n",
       "\t Chris Boucher    & 0 & -28.5\\\\\n",
       "\\end{tabular}\n"
      ],
      "text/markdown": [
       "\n",
       "A data.frame: 50 × 3\n",
       "\n",
       "| Player &lt;fct&gt; | Salary &lt;int&gt; | PER &lt;dbl&gt; |\n",
       "|---|---|---|\n",
       "| Anthony Brown    | 0 |  41.9 |\n",
       "| Monte Morris     | 0 |  27.1 |\n",
       "| Jack Cooley      | 0 |  19.7 |\n",
       "| Adreian Payne    | 0 |  18.8 |\n",
       "| Daniel Hamilton  | 0 |  18.2 |\n",
       "| Mangok Mathiang  | 0 |  18.0 |\n",
       "| Johnathan Motley | 0 |  17.2 |\n",
       "| JaKarr Sampson   | 0 |  13.9 |\n",
       "| Luke Kornet      | 0 |  13.6 |\n",
       "| Reggie Hearn     | 0 |  13.1 |\n",
       "| Danuel House     | 0 |  12.4 |\n",
       "| Jabari Bird      | 0 |  12.1 |\n",
       "| Josh Magette     | 0 |  11.9 |\n",
       "| Derrick Walton   | 0 |  11.2 |\n",
       "| Jalen Jones      | 0 |  10.9 |\n",
       "| Alec Peters      | 0 |  10.7 |\n",
       "| Jalen Jones      | 0 |  10.3 |\n",
       "| Tyrone Wallace   | 0 |  10.1 |\n",
       "| Antonio Blakeney | 0 |  10.1 |\n",
       "| Torrey Craig     | 0 |   9.8 |\n",
       "| Myke Henry       | 0 |   9.7 |\n",
       "| Matt Costello    | 0 |   9.7 |\n",
       "| C.J. Williams    | 0 |   9.5 |\n",
       "| Marcus Paige     | 0 |   9.1 |\n",
       "| Malcolm Miller   | 0 |   8.9 |\n",
       "| Alex Caruso      | 0 |   8.7 |\n",
       "| R.J. Hunter      | 0 |   8.5 |\n",
       "| Lorenzo Brown    | 0 |   8.2 |\n",
       "| Jacob Wiley      | 0 |   8.2 |\n",
       "| Kobi Simmons     | 0 |   7.7 |\n",
       "| Ryan Arcidiacono | 0 |   7.3 |\n",
       "| Jamel Artis      | 0 |   6.9 |\n",
       "| Isaiah Hicks     | 0 |   6.8 |\n",
       "| John Holland     | 0 |   5.9 |\n",
       "| Andrew White     | 0 |   5.8 |\n",
       "| Milton Doyle     | 0 |   5.2 |\n",
       "| Jalen Jones      | 0 |   5.0 |\n",
       "| James Young      | 0 |   4.6 |\n",
       "| Darrun Hilliard  | 0 |   3.4 |\n",
       "| Tim Quarterman   | 0 |   2.9 |\n",
       "| Kadeem Allen     | 0 |   2.6 |\n",
       "| James Webb       | 0 |   2.2 |\n",
       "| London Perrantes | 0 |   0.7 |\n",
       "| Markel Brown     | 0 |  -1.2 |\n",
       "| Xavier Munford   | 0 |  -2.1 |\n",
       "| Ben Moore        | 0 |  -2.3 |\n",
       "| PJ Dozier        | 0 |  -5.0 |\n",
       "| Charles Cooke    | 0 |  -5.1 |\n",
       "| Erik McCree      | 0 |  -8.9 |\n",
       "| Chris Boucher    | 0 | -28.5 |\n",
       "\n"
      ],
      "text/plain": [
       "   Player           Salary PER  \n",
       "1  Anthony Brown    0       41.9\n",
       "2  Monte Morris     0       27.1\n",
       "3  Jack Cooley      0       19.7\n",
       "4  Adreian Payne    0       18.8\n",
       "5  Daniel Hamilton  0       18.2\n",
       "6  Mangok Mathiang  0       18.0\n",
       "7  Johnathan Motley 0       17.2\n",
       "8  JaKarr Sampson   0       13.9\n",
       "9  Luke Kornet      0       13.6\n",
       "10 Reggie Hearn     0       13.1\n",
       "11 Danuel House     0       12.4\n",
       "12 Jabari Bird      0       12.1\n",
       "13 Josh Magette     0       11.9\n",
       "14 Derrick Walton   0       11.2\n",
       "15 Jalen Jones      0       10.9\n",
       "16 Alec Peters      0       10.7\n",
       "17 Jalen Jones      0       10.3\n",
       "18 Tyrone Wallace   0       10.1\n",
       "19 Antonio Blakeney 0       10.1\n",
       "20 Torrey Craig     0        9.8\n",
       "21 Myke Henry       0        9.7\n",
       "22 Matt Costello    0        9.7\n",
       "23 C.J. Williams    0        9.5\n",
       "24 Marcus Paige     0        9.1\n",
       "25 Malcolm Miller   0        8.9\n",
       "26 Alex Caruso      0        8.7\n",
       "27 R.J. Hunter      0        8.5\n",
       "28 Lorenzo Brown    0        8.2\n",
       "29 Jacob Wiley      0        8.2\n",
       "30 Kobi Simmons     0        7.7\n",
       "31 Ryan Arcidiacono 0        7.3\n",
       "32 Jamel Artis      0        6.9\n",
       "33 Isaiah Hicks     0        6.8\n",
       "34 John Holland     0        5.9\n",
       "35 Andrew White     0        5.8\n",
       "36 Milton Doyle     0        5.2\n",
       "37 Jalen Jones      0        5.0\n",
       "38 James Young      0        4.6\n",
       "39 Darrun Hilliard  0        3.4\n",
       "40 Tim Quarterman   0        2.9\n",
       "41 Kadeem Allen     0        2.6\n",
       "42 James Webb       0        2.2\n",
       "43 London Perrantes 0        0.7\n",
       "44 Markel Brown     0       -1.2\n",
       "45 Xavier Munford   0       -2.1\n",
       "46 Ben Moore        0       -2.3\n",
       "47 PJ Dozier        0       -5.0\n",
       "48 Charles Cooke    0       -5.1\n",
       "49 Erik McCree      0       -8.9\n",
       "50 Chris Boucher    0      -28.5"
      ]
     },
     "metadata": {},
     "output_type": "display_data"
    }
   ],
   "source": [
    "#Make each column numeric\n",
    "stats$Salary = as.numeric(stat$Salary)\n",
    "stats$PER = as.numeric(stat$PER)\n",
    "\n",
    "#Filter for players making $0\n",
    "filter(stat, Salary==\"0\")\n",
    "\n",
    "#Create a new data frame with players making >$0\n",
    "stat_salary = filter(stat, Salary>0)"
   ]
  },
  {
   "cell_type": "markdown",
   "metadata": {},
   "source": [
    "# Visualizing the Data "
   ]
  },
  {
   "cell_type": "markdown",
   "metadata": {},
   "source": [
    "Scatterplots, boxplots and histograms were produced to investigate the relationships, outliers and distribution of the data.\n"
   ]
  },
  {
   "cell_type": "code",
   "execution_count": 24,
   "metadata": {},
   "outputs": [
    {
     "data": {
      "image/png": "[encoded data removed]",
      "text/plain": [
       "Plot with title “Player Efficiency Rating vs. Salary”"
      ]
     },
     "metadata": {
      "image/png": {
       "height": 420,
       "width": 420
      },
      "text/plain": {
       "height": 420,
       "width": 420
      }
     },
     "output_type": "display_data"
    }
   ],
   "source": [
    "plot(x=stat_salary$PER, y=stat_salary$Salary, main=\"Player Efficiency Rating vs. Salary\", xlab = \"PER\", ylab = \"Salary\")\n"
   ]
  },
  {
   "cell_type": "markdown",
   "metadata": {},
   "source": [
    "Figure 1. Relationship between player salary and player efficiency ratings during the NBA 2017-18 season. "
   ]
  },
  {
   "cell_type": "code",
   "execution_count": 25,
   "metadata": {},
   "outputs": [
    {
     "data": {
      "image/png": "[encoded data removed]",
      "text/plain": [
       "Plot with title “Player Efficiency Rating”"
      ]
     },
     "metadata": {
      "image/png": {
       "height": 420,
       "width": 420
      },
      "text/plain": {
       "height": 420,
       "width": 420
      }
     },
     "output_type": "display_data"
    },
    {
     "data": {
      "image/png": "[encoded data removed]",
      "text/plain": [
       "Plot with title “Salary”"
      ]
     },
     "metadata": {
      "image/png": {
       "height": 420,
       "width": 420
      },
      "text/plain": {
       "height": 420,
       "width": 420
      }
     },
     "output_type": "display_data"
    }
   ],
   "source": [
    "boxplot(stat_salary$PER, main=\"Player Efficiency Rating\")\n",
    "boxplot(stat_salary$Salary, main=\"Salary\")\n"
   ]
  },
  {
   "cell_type": "markdown",
   "metadata": {},
   "source": [
    "Figure 2. Distribution of outliers in the NBA salary and PER data."
   ]
  },
  {
   "cell_type": "code",
   "execution_count": 29,
   "metadata": {},
   "outputs": [
    {
     "data": {
      "image/png": "[encoded data removed]",
      "text/plain": [
       "Plot with title “Distribution of Player Efficiency Rating Data”"
      ]
     },
     "metadata": {
      "image/png": {
       "height": 420,
       "width": 420
      },
      "text/plain": {
       "height": 420,
       "width": 420
      }
     },
     "output_type": "display_data"
    },
    {
     "data": {
      "image/png": "[encoded data removed]",
      "text/plain": [
       "Plot with title “Distribution of Salary Data”"
      ]
     },
     "metadata": {
      "image/png": {
       "height": 420,
       "width": 420
      },
      "text/plain": {
       "height": 420,
       "width": 420
      }
     },
     "output_type": "display_data"
    }
   ],
   "source": [
    "hist(stat_salary$PER, main = \"Distribution of Player Efficiency Rating Data\", xlab = \"PER\", ylab = \"value\")\n",
    "\n",
    "hist(stat_salary$Salary, main = \"Distribution of Salary Data\", xlab = \"Salary\", ylab = 'value')\n"
   ]
  },
  {
   "cell_type": "markdown",
   "metadata": {},
   "source": [
    "Overall, we can see in the scatterplot that there is a steep positive exponential relationship between salary and PER. The salary data follows a fairly normal distribution with many outliers above the upper limit. The boxplot and histogram show how the data is clustered with a fairly small range. Additionally, the boxplot highlights the large number of outliers, and in particular one that is expceptionally far from the lower limit.\n",
    "\n",
    "To further investigate this, the extreme outlier was queried from the data set and found to be Mindaugas Kuzminskas.\n",
    "\n"
   ]
  },
  {
   "cell_type": "markdown",
   "metadata": {},
   "source": [
    "Table 3. Query for extreme outlier in the PER data."
   ]
  },
  {
   "cell_type": "code",
   "execution_count": 28,
   "metadata": {},
   "outputs": [
    {
     "data": {
      "text/html": [
       "<table>\n",
       "<caption>A data.frame: 1 × 3</caption>\n",
       "<thead>\n",
       "\t<tr><th scope=col>Player</th><th scope=col>Salary</th><th scope=col>PER</th></tr>\n",
       "\t<tr><th scope=col>&lt;fct&gt;</th><th scope=col>&lt;int&gt;</th><th scope=col>&lt;dbl&gt;</th></tr>\n",
       "</thead>\n",
       "<tbody>\n",
       "\t<tr><td>Mindaugas Kuzminskas</td><td>3025035</td><td>-41.1</td></tr>\n",
       "</tbody>\n",
       "</table>\n"
      ],
      "text/latex": [
       "A data.frame: 1 × 3\n",
       "\\begin{tabular}{r|lll}\n",
       " Player & Salary & PER\\\\\n",
       " <fct> & <int> & <dbl>\\\\\n",
       "\\hline\n",
       "\t Mindaugas Kuzminskas & 3025035 & -41.1\\\\\n",
       "\\end{tabular}\n"
      ],
      "text/markdown": [
       "\n",
       "A data.frame: 1 × 3\n",
       "\n",
       "| Player &lt;fct&gt; | Salary &lt;int&gt; | PER &lt;dbl&gt; |\n",
       "|---|---|---|\n",
       "| Mindaugas Kuzminskas | 3025035 | -41.1 |\n",
       "\n"
      ],
      "text/plain": [
       "  Player               Salary  PER  \n",
       "1 Mindaugas Kuzminskas 3025035 -41.1"
      ]
     },
     "metadata": {},
     "output_type": "display_data"
    }
   ],
   "source": [
    "filter(stat_salary, PER<(-20))"
   ]
  },
  {
   "cell_type": "markdown",
   "metadata": {},
   "source": [
    "# Discussion"
   ]
  },
  {
   "attachments": {},
   "cell_type": "markdown",
   "metadata": {},
   "source": [
    "An initial exploration of the 2017-2018 season data revealed some interesting characteristics about the salary and PER data. Overall, the salary data had a normal distribution that was slightly skewed, with many players making lower salaries and few making very large salaries. Furthermore, there were a lot of outliers in the salary data, all falling above the upper limit. This is likely because the top performing players are in high demand and are paid competitive salaries by the teams signing them. Interestingly, the lack of lower limit outliers indicates that the majority of players are receiving a fairly similar salary, with none earning substantially lower salaries than the rest.\n",
    "\n",
    "The PER data was fairly normally distributed.  There were many outliers outside of the upper and lower limits, with two especially notable values that were substantially further away from the rest of the data. These two outliers were Naz Mitrou-Long with a PER of 133.8 and Mindaugas Kuzminskas with a PER of -41.1. After further investigating, it was found that Mitrou-Long’s actual PER was 15.1 during the 2017-2018 season (Basketball Reference 2019). This indicates that there are some fairly large errors in the dataset. This dataset was from Kaggle, a website that allows users to publish open data sets. Because of this, it is not surprising that there may be errors in the data (Hollinger 2007). \n",
    "\n",
    "This data set did not meet both the Pearson’s correlation or the linear regression assumptions as there were many outliers for both variables. Because of this the relationship between salary and PER was not quantified. Overall, a scatterplot shows that these two variables are positively correlated and seem to have an exponential relationship. As mentioned above, this relationship is not necessarily accurate as there were errors in the data. Unfortunately, this means that this study would need to be repeated with accurate data in order to make any confident conclusions.  \n",
    "\n",
    "This study was an exploration into the PER and salary data for the 2017-2018 season and demonstrated a positive relationship between the two variables. It would be interesting to further this study by comparing different box office statistics and understand how each relates to salary. In particular, assists, rebounds, blocks, free throws and personal fouls were found to be significantly associated with season-long success (Summers 2013). Understanding how these variables relate to salary could explain how players are compensated for valuable skills.  Additionally, future studies could examine how factors outside of skill level impact salary. For example, how does age, race or public opinion of a player impact their salary? In conclusion, this study was a valuable exploration into one estimate of player efficiency, however salary is likely impacted by many variables to varying degrees and there are many opportunities to further investigate this.   "
   ]
  },
  {
   "cell_type": "markdown",
   "metadata": {},
   "source": [
    "# References"
   ]
  },
  {
   "cell_type": "markdown",
   "metadata": {},
   "source": [
    "Hollinger J. What is PER? ESPN. 2007 Apr 26 [accessed 2019 Nov 19]. https://www.espn.com/nba/columns/story?columnist=hollinger_john&id=2850240\n",
    "\n",
    "Naz Mitrou-Long NBA Stats. Basketball Reference. [accessed 2019 Nov 19]. https://www.basketball-reference.com/gleague/players/m/mitrona01d.html\n",
    "\n",
    "Summers MR. 2013. How to Win in the NBA Playoffs: A Statistical Analysis. American Journal of Management. Vol 13 Issue 3: 11-24\n",
    "\n",
    "White MH and Sheldon KM. 2013. The contract year syndrome in the NBA and MLB: A classic undermining pattern. Volume 38, Issue 2: 162-205\n"
   ]
  }
 ],
 "metadata": {
  "kernelspec": {
   "display_name": "R",
   "language": "R",
   "name": "ir"
  },
  "language_info": {
   "codemirror_mode": "r",
   "file_extension": ".r",
   "mimetype": "text/x-r-source",
   "name": "R",
   "pygments_lexer": "r",
   "version": "3.4.4"
  }
 },
 "nbformat": 4,
 "nbformat_minor": 2
}
